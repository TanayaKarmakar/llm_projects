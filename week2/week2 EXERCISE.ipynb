{
 "cells": [
  {
   "cell_type": "markdown",
   "id": "d006b2ea-9dfe-49c7-88a9-a5a0775185fd",
   "metadata": {},
   "source": [
    "# Additional End of week Exercise - week 2\n",
    "\n",
    "Now use everything you've learned from Week 2 to build a full prototype for the technical question/answerer you built in Week 1 Exercise.\n",
    "\n",
    "This should include a Gradio UI, streaming, use of the system prompt to add expertise, and the ability to switch between models. Bonus points if you can demonstrate use of a tool!\n",
    "\n",
    "If you feel bold, see if you can add audio input so you can talk to it, and have it respond with audio. ChatGPT or Claude can help you, or email me if you have questions.\n",
    "\n",
    "I will publish a full solution here soon - unless someone beats me to it...\n",
    "\n",
    "There are so many commercial applications for this, from a language tutor, to a company onboarding solution, to a companion AI to a course (like this one!) I can't wait to see your results."
   ]
  },
  {
   "cell_type": "code",
   "execution_count": 94,
   "id": "a07e7793-b8f5-44f4-aded-5562f633271a",
   "metadata": {},
   "outputs": [],
   "source": [
    "import os\n",
    "import json\n",
    "from dotenv import load_dotenv\n",
    "from openai import OpenAI\n",
    "import gradio as gr\n",
    "import anthropic\n",
    "from anthropic.types import ToolUseBlock"
   ]
  },
  {
   "cell_type": "code",
   "execution_count": 129,
   "id": "14536e56-ac26-4684-83dd-9b4bb15820d4",
   "metadata": {},
   "outputs": [
    {
     "name": "stdout",
     "output_type": "stream",
     "text": [
      "Anthropic API key exists and starts with sk-ant-\n",
      "OpenAi API key exists and starts with sk-proj-\n"
     ]
    }
   ],
   "source": [
    "load_dotenv(override=True)\n",
    "\n",
    "anthropic_api_key = os.getenv('ANTHROPIC_API_KEY','***')\n",
    "openai_api_key = os.getenv('OPENAI_API_KEY','****')\n",
    "\n",
    "if anthropic_api_key:\n",
    "    print(f\"Anthropic API key exists and starts with {anthropic_api_key[:7]}\")\n",
    "else:\n",
    "    print(\"Please provide anthropic api key\")\n",
    "\n",
    "\n",
    "if openai_api_key:\n",
    "    print(f\"OpenAi API key exists and starts with {openai_api_key[:8]}\")\n",
    "else:\n",
    "    print(\"Please provide openai api key\")"
   ]
  },
  {
   "cell_type": "code",
   "execution_count": 6,
   "id": "5e339000-75a0-4e5f-bdfa-9688bf67418d",
   "metadata": {},
   "outputs": [],
   "source": [
    "model_name = 'claude-3-haiku-20240307'\n",
    "\n",
    "claude = anthropic.Anthropic(api_key = anthropic_api_key)"
   ]
  },
  {
   "cell_type": "code",
   "execution_count": 42,
   "id": "5b0748c6-794b-4e48-93e4-c105389e1b06",
   "metadata": {},
   "outputs": [],
   "source": [
    "messages = []"
   ]
  },
  {
   "cell_type": "markdown",
   "id": "2ad007f6-460f-44f8-8b2a-22ba733cc83d",
   "metadata": {},
   "source": [
    "## Tools\n"
   ]
  },
  {
   "cell_type": "code",
   "execution_count": 7,
   "id": "690245f9-4c28-45ff-9108-98fc4f639ac8",
   "metadata": {},
   "outputs": [],
   "source": [
    "ticket_prices = {\"london\": \"$799\", \"paris\": \"$899\", \"tokyo\": \"$1400\", \"berlin\": \"$499\"}\n",
    "\n",
    "def get_ticket_price(destination_city):\n",
    "    print(f\"Tool get_ticket_price called for {destination_city}\")\n",
    "    city = destination_city.lower()\n",
    "    return ticket_prices.get(city, \"Unknown\")"
   ]
  },
  {
   "cell_type": "code",
   "execution_count": 8,
   "id": "7f83b86c-37a6-4cd8-b578-fdf17fa1ce37",
   "metadata": {},
   "outputs": [
    {
     "name": "stdout",
     "output_type": "stream",
     "text": [
      "Tool get_ticket_price called for london\n"
     ]
    },
    {
     "data": {
      "text/plain": [
       "'$799'"
      ]
     },
     "execution_count": 8,
     "metadata": {},
     "output_type": "execute_result"
    }
   ],
   "source": [
    "get_ticket_price(\"london\")"
   ]
  },
  {
   "cell_type": "code",
   "execution_count": 114,
   "id": "b553576b-a325-4570-a53e-34227bb6ce14",
   "metadata": {},
   "outputs": [
    {
     "name": "stdout",
     "output_type": "stream",
     "text": [
      "Collecting gtts\n",
      "  Downloading gTTS-2.5.4-py3-none-any.whl.metadata (4.1 kB)\n",
      "Collecting playsound\n",
      "  Downloading playsound-1.3.0.tar.gz (7.7 kB)\n",
      "  Preparing metadata (setup.py) ... \u001b[?25ldone\n",
      "\u001b[?25hRequirement already satisfied: requests<3,>=2.27 in /opt/anaconda3/envs/llms/lib/python3.11/site-packages (from gtts) (2.32.3)\n",
      "Requirement already satisfied: click<8.2,>=7.1 in /opt/anaconda3/envs/llms/lib/python3.11/site-packages (from gtts) (8.1.8)\n",
      "Requirement already satisfied: charset_normalizer<4,>=2 in /opt/anaconda3/envs/llms/lib/python3.11/site-packages (from requests<3,>=2.27->gtts) (3.4.1)\n",
      "Requirement already satisfied: idna<4,>=2.5 in /opt/anaconda3/envs/llms/lib/python3.11/site-packages (from requests<3,>=2.27->gtts) (3.10)\n",
      "Requirement already satisfied: urllib3<3,>=1.21.1 in /opt/anaconda3/envs/llms/lib/python3.11/site-packages (from requests<3,>=2.27->gtts) (2.3.0)\n",
      "Requirement already satisfied: certifi>=2017.4.17 in /opt/anaconda3/envs/llms/lib/python3.11/site-packages (from requests<3,>=2.27->gtts) (2025.1.31)\n",
      "Downloading gTTS-2.5.4-py3-none-any.whl (29 kB)\n",
      "Building wheels for collected packages: playsound\n",
      "  Building wheel for playsound (setup.py) ... \u001b[?25ldone\n",
      "\u001b[?25h  Created wheel for playsound: filename=playsound-1.3.0-py3-none-any.whl size=7099 sha256=106a7a52e925fd11af01e95c8956ede7fea938f21aacc0039116ae37d9d42bd1\n",
      "  Stored in directory: /Users/tanayakarmakar/Library/Caches/pip/wheels/50/98/42/62753a9e1fb97579a0ce2f84f7db4c21c09d03bb2091e6cef4\n",
      "Successfully built playsound\n",
      "Installing collected packages: playsound, gtts\n",
      "Successfully installed gtts-2.5.4 playsound-1.3.0\n",
      "Note: you may need to restart the kernel to use updated packages.\n"
     ]
    }
   ],
   "source": [
    "pip install gtts playsound"
   ]
  },
  {
   "cell_type": "code",
   "execution_count": 133,
   "id": "9b7cf87e-367d-45fe-9a73-3f6711a19bc0",
   "metadata": {},
   "outputs": [],
   "source": [
    "from pydub import AudioSegment\n",
    "from pydub.playback import play\n",
    "from openai import OpenAI\n",
    "from io import BytesIO\n",
    "\n",
    "\n",
    "openai = OpenAI(api_key = openai_api_key)\n",
    "\n",
    "def talker(message):\n",
    "    response = openai.audio.speech.create(\n",
    "      model=\"tts-1\",\n",
    "      voice=\"onyx\",    # Also, try replacing onyx with alloy\n",
    "      input=message\n",
    "    )\n",
    "    \n",
    "    audio_stream = BytesIO(response.content)\n",
    "    audio = AudioSegment.from_file(audio_stream, format=\"mp3\")\n",
    "    play(audio)\n",
    "    "
   ]
  },
  {
   "cell_type": "code",
   "execution_count": 135,
   "id": "3af4d492-5064-4aef-88b8-1adb8a3efb73",
   "metadata": {},
   "outputs": [
    {
     "name": "stderr",
     "output_type": "stream",
     "text": [
      "Input #0, wav, from '/var/folders/f4/v6qdzld96kgdrq05w5ghmrp40000gn/T/tmpf4ok7m7y.wav':\n",
      "  Duration: 00:00:01.18, bitrate: 384 kb/s\n",
      "  Stream #0:0: Audio: pcm_s16le ([1][0][0][0] / 0x0001), 24000 Hz, 1 channels, s16, 384 kb/s\n",
      "   1.06 M-A:  0.000 fd=   0 aq=    0KB vq=    0KB sq=    0B "
     ]
    },
    {
     "name": "stdout",
     "output_type": "stream",
     "text": [
      "\n"
     ]
    }
   ],
   "source": [
    "talker(\"tell me a cat joke\")"
   ]
  },
  {
   "cell_type": "code",
   "execution_count": 29,
   "id": "1bda345d-c513-4d6d-9eba-db0c3c0aa86d",
   "metadata": {},
   "outputs": [],
   "source": [
    "price_function = {\n",
    "    \"name\": \"get_ticket_price\",\n",
    "    \"description\": \"Get the price of a return ticket to the destination city. Call this whenever you need to know the ticket price, for example when a customer asks 'How much is a ticket to this city'\",\n",
    "    \"input_schema\": {\n",
    "        \"type\": \"object\",\n",
    "        \"properties\": {\n",
    "            \"destination_city\": {\n",
    "                \"type\": \"string\",\n",
    "                \"description\": \"The city that the customer wants to travel to\",\n",
    "            },\n",
    "        },\n",
    "        \"required\": [\"destination_city\"],\n",
    "        \"additionalProperties\": False\n",
    "    }\n",
    "}"
   ]
  },
  {
   "cell_type": "code",
   "execution_count": 31,
   "id": "00421b9f-ff86-40be-a30a-eb1b8a9c47ff",
   "metadata": {},
   "outputs": [],
   "source": [
    "tools = [price_function]"
   ]
  },
  {
   "cell_type": "code",
   "execution_count": 11,
   "id": "eb1d9f88-8391-4cc3-9561-7355a81784ec",
   "metadata": {},
   "outputs": [],
   "source": [
    "system_message = \"You are a helpful assistant for an Airline called FlightAI. \"\n",
    "system_message += \"Give short, courteous answers, no more than 1 sentence. \"\n",
    "system_message += \"Always be accurate. If you don't know the answer, say so.\""
   ]
  },
  {
   "cell_type": "code",
   "execution_count": 105,
   "id": "341672d6-2154-400b-92c5-9d36309d6fa1",
   "metadata": {},
   "outputs": [],
   "source": [
    "def handle_tool_calls(tool_calls):\n",
    "    print(tool_calls)\n",
    "    tool_call = tool_calls.name\n",
    "    print(f\"Tool name {tool_call}\")\n",
    "\n",
    "    arguments =tool_calls.input\n",
    "    city = arguments.get('destination_city')\n",
    "    price = get_ticket_price(city)\n",
    "    response = {\n",
    "        \"role\": \"assistant\",\n",
    "        \"content\": json.dumps({\"destination_city\": city,\"price\": price})\n",
    "    }\n",
    "    return response, city "
   ]
  },
  {
   "cell_type": "code",
   "execution_count": 108,
   "id": "4374d678-0622-48c8-b6a3-35bda2f6beb9",
   "metadata": {},
   "outputs": [],
   "source": [
    "def chat(message, history):\n",
    "    global messages\n",
    "\n",
    "    messages = []\n",
    "    for user, assistant in history:\n",
    "        messages.append({\"role\":\"user\", \"content\": user})\n",
    "        messages.append({\"role\":\"assistant\",\"content\": assistant})\n",
    "    messages.append({\"role\": \"user\",\"content\": message})\n",
    "\n",
    "    print(messages)\n",
    "    \n",
    "    response = claude.messages.create(\n",
    "        model= model_name,\n",
    "        max_tokens=1000,\n",
    "        system = system_message,\n",
    "        messages = messages,\n",
    "        tools = tools\n",
    "    )\n",
    "\n",
    "    tool_usage = None\n",
    "    print(response)\n",
    "    print(response.content[0].type)\n",
    "\n",
    "    if response.content[0].type == 'tool_use':\n",
    "        response, city = handle_tool_calls(response.content[0])\n",
    "        messages.append(response)\n",
    "        #messages.append(city)\n",
    "        response = claude.messages.create(\n",
    "            model = model_name,\n",
    "            max_tokens = 100,\n",
    "            messages = messages\n",
    "        )\n",
    "    messages.append({\"role\": \"assistant\",\"content\":response.content[0].text })\n",
    "    return response.content[0].text\n",
    "        "
   ]
  },
  {
   "cell_type": "code",
   "execution_count": 110,
   "id": "6cf29ea5-4080-4bb5-9c17-5e24130d1014",
   "metadata": {},
   "outputs": [
    {
     "name": "stderr",
     "output_type": "stream",
     "text": [
      "/var/folders/f4/v6qdzld96kgdrq05w5ghmrp40000gn/T/ipykernel_13842/2994664130.py:4: UserWarning: You have not specified a value for the `type` parameter. Defaulting to the 'tuples' format for chatbot messages, but this is deprecated and will be removed in a future version of Gradio. Please set type='messages' instead, which uses openai-style dictionaries with 'role' and 'content' keys.\n",
      "  chatbot=gr.Chatbot(),\n",
      "/opt/anaconda3/envs/llms/lib/python3.11/site-packages/gradio/chat_interface.py:317: UserWarning: The gr.ChatInterface was not provided with a type, so the type of the gr.Chatbot, 'tuples', will be used.\n",
      "  warnings.warn(\n"
     ]
    },
    {
     "name": "stdout",
     "output_type": "stream",
     "text": [
      "* Running on local URL:  http://127.0.0.1:7897\n",
      "\n",
      "To create a public link, set `share=True` in `launch()`.\n"
     ]
    },
    {
     "data": {
      "text/html": [
       "<div><iframe src=\"http://127.0.0.1:7897/\" width=\"100%\" height=\"500\" allow=\"autoplay; camera; microphone; clipboard-read; clipboard-write;\" frameborder=\"0\" allowfullscreen></iframe></div>"
      ],
      "text/plain": [
       "<IPython.core.display.HTML object>"
      ]
     },
     "metadata": {},
     "output_type": "display_data"
    },
    {
     "data": {
      "text/plain": []
     },
     "execution_count": 110,
     "metadata": {},
     "output_type": "execute_result"
    }
   ],
   "source": [
    "chatbot = gr.ChatInterface(\n",
    "    fn=chat,\n",
    "    title=\"Claude Chatbot 🤖\",\n",
    "    chatbot=gr.Chatbot(),\n",
    "    textbox=gr.Textbox(placeholder=\"Ask Claude anything...\"),\n",
    ")\n",
    "\n",
    "chatbot.launch()\n"
   ]
  },
  {
   "cell_type": "markdown",
   "id": "caef19c5-aeb2-4b1c-9dd8-095f1659a588",
   "metadata": {},
   "source": [
    "## Agent Framework"
   ]
  },
  {
   "cell_type": "code",
   "execution_count": 241,
   "id": "72f2c9e2-c2b9-4c81-bbde-56ddf90900cb",
   "metadata": {},
   "outputs": [],
   "source": [
    "def translate(text, target_language):\n",
    "    prompt = f\"Translate the following sentence into {target_language}:\\n\\n\\\"{text}\\\"\"\n",
    "    response = claude.messages.create(\n",
    "        model=model_name,\n",
    "        max_tokens=256,\n",
    "        messages=[\n",
    "            {\n",
    "                \"role\": \"user\",\n",
    "                \"content\": [\n",
    "                    {\"type\": \"text\", \"text\": prompt}\n",
    "                ]\n",
    "            }\n",
    "        ]\n",
    "    )\n",
    "\n",
    "    print(response.content[0])\n",
    "\n",
    "    return response.content[0].text\n",
    "    "
   ]
  },
  {
   "cell_type": "code",
   "execution_count": 243,
   "id": "f4d41aa7-d83e-4b12-a202-6f4962021bf8",
   "metadata": {},
   "outputs": [
    {
     "name": "stdout",
     "output_type": "stream",
     "text": [
      "TextBlock(citations=None, text='Hallo da', type='text')\n"
     ]
    },
    {
     "data": {
      "text/plain": [
       "'Hallo da'"
      ]
     },
     "execution_count": 243,
     "metadata": {},
     "output_type": "execute_result"
    }
   ],
   "source": [
    "translate(\"hi there\", \"de\")"
   ]
  },
  {
   "cell_type": "code",
   "execution_count": 249,
   "id": "a2770ff7-0d8d-447d-a081-6630d1cbd3dd",
   "metadata": {},
   "outputs": [],
   "source": [
    "def chat_with_claude(message, target_language,history):\n",
    "    global messages\n",
    "\n",
    "    print(f\"Target language is {target_language}\")\n",
    "\n",
    "    messages = []\n",
    "    if history:\n",
    "        for user, assistant in history:\n",
    "            messages.append({\"role\":\"user\", \"content\": user})\n",
    "            messages.append({\"role\":\"assistant\",\"content\": assistant})\n",
    "    messages.append({\"role\": \"user\",\"content\": message})\n",
    "\n",
    "    print(messages)\n",
    "    \n",
    "    response = claude.messages.create(\n",
    "        model= model_name,\n",
    "        max_tokens=1000,\n",
    "        system = system_message,\n",
    "        messages = messages,\n",
    "        tools = tools\n",
    "    )\n",
    "\n",
    "    tool_usage = None\n",
    "    print(response)\n",
    "    print(response.content[0].type)\n",
    "\n",
    "    reply = ''\n",
    "    if response.content[0].type == 'tool_use':\n",
    "        response, city = handle_tool_calls(response.content[0])\n",
    "        messages.append(response)\n",
    "        reply = f\"The flight price is ${response['content']}\"\n",
    "\n",
    "        print(f\"Tool response ${reply}\")\n",
    "        response = claude.messages.create(\n",
    "            model = model_name,\n",
    "            max_tokens = 100,\n",
    "            messages = messages\n",
    "        )\n",
    "        print('Tools Response')\n",
    "        print(response)\n",
    "    else:\n",
    "        reply = response.content[0].text\n",
    "    messages.append({\"role\": \"assistant\",\"content\":reply })\n",
    "    talker(translate(reply, target_language))\n",
    "    return reply"
   ]
  },
  {
   "cell_type": "code",
   "execution_count": 250,
   "id": "cf704910-5e99-4f9a-8402-3b20428633ff",
   "metadata": {},
   "outputs": [
    {
     "name": "stderr",
     "output_type": "stream",
     "text": [
      "/opt/anaconda3/envs/llms/lib/python3.11/site-packages/gradio/utils.py:1024: UserWarning: Expected 3 arguments for function <function chat_with_claude at 0x1554b2e80>, received 2.\n",
      "  warnings.warn(\n",
      "/opt/anaconda3/envs/llms/lib/python3.11/site-packages/gradio/utils.py:1028: UserWarning: Expected at least 3 arguments for function <function chat_with_claude at 0x1554b2e80>, received 2.\n",
      "  warnings.warn(\n"
     ]
    },
    {
     "name": "stdout",
     "output_type": "stream",
     "text": [
      "* Running on local URL:  http://127.0.0.1:7938\n",
      "\n",
      "To create a public link, set `share=True` in `launch()`.\n"
     ]
    },
    {
     "data": {
      "text/html": [
       "<div><iframe src=\"http://127.0.0.1:7938/\" width=\"100%\" height=\"500\" allow=\"autoplay; camera; microphone; clipboard-read; clipboard-write;\" frameborder=\"0\" allowfullscreen></iframe></div>"
      ],
      "text/plain": [
       "<IPython.core.display.HTML object>"
      ]
     },
     "metadata": {},
     "output_type": "display_data"
    },
    {
     "data": {
      "text/plain": []
     },
     "execution_count": 250,
     "metadata": {},
     "output_type": "execute_result"
    },
    {
     "name": "stderr",
     "output_type": "stream",
     "text": [
      "/opt/anaconda3/envs/llms/lib/python3.11/site-packages/gradio/helpers.py:977: UserWarning: Unexpected argument. Filling with None.\n",
      "  warnings.warn(\"Unexpected argument. Filling with None.\")\n"
     ]
    },
    {
     "name": "stdout",
     "output_type": "stream",
     "text": [
      "Target language is Hindi\n",
      "[{'role': 'user', 'content': 'hi'}]\n",
      "Message(id='msg_012XfkRCP12NEBzVtN96wLmS', content=[TextBlock(citations=None, text='Hello, how can I assist you today?', type='text')], model='claude-3-haiku-20240307', role='assistant', stop_reason='end_turn', stop_sequence=None, type='message', usage=Usage(cache_creation_input_tokens=0, cache_read_input_tokens=0, input_tokens=433, output_tokens=12))\n",
      "text\n",
      "TextBlock(citations=None, text='Here is the translation of the sentence \"Hello, how can I assist you today?\" into Hindi:\\n\\n\"नमस्ते, आज मैं आपकी किस प्रकार से मदद कर सकता हूं?\"', type='text')\n"
     ]
    },
    {
     "name": "stderr",
     "output_type": "stream",
     "text": [
      "Input #0, wav, from '/var/folders/f4/v6qdzld96kgdrq05w5ghmrp40000gn/T/tmpyq9wmzcq.wav':\n",
      "  Duration: 00:00:09.14, bitrate: 384 kb/s\n",
      "  Stream #0:0: Audio: pcm_s16le ([1][0][0][0] / 0x0001), 24000 Hz, 1 channels, s16, 384 kb/s\n",
      "   9.09 M-A:  0.000 fd=   0 aq=    0KB vq=    0KB sq=    0B "
     ]
    },
    {
     "name": "stdout",
     "output_type": "stream",
     "text": [
      "\n"
     ]
    },
    {
     "name": "stderr",
     "output_type": "stream",
     "text": [
      "/opt/anaconda3/envs/llms/lib/python3.11/site-packages/gradio/helpers.py:977: UserWarning: Unexpected argument. Filling with None.\n",
      "  warnings.warn(\"Unexpected argument. Filling with None.\")\n"
     ]
    },
    {
     "name": "stdout",
     "output_type": "stream",
     "text": [
      "Target language is Hindi\n",
      "[{'role': 'user', 'content': 'flight ticket to london'}]\n",
      "Message(id='msg_01KRLgNwpcuhxQhKJnSX54aP', content=[ToolUseBlock(id='toolu_012JCREz1NXtmQbwyHiHhGPL', input={'destination_city': 'London'}, name='get_ticket_price', type='tool_use')], model='claude-3-haiku-20240307', role='assistant', stop_reason='tool_use', stop_sequence=None, type='message', usage=Usage(cache_creation_input_tokens=0, cache_read_input_tokens=0, input_tokens=436, output_tokens=57))\n",
      "tool_use\n",
      "ToolUseBlock(id='toolu_012JCREz1NXtmQbwyHiHhGPL', input={'destination_city': 'London'}, name='get_ticket_price', type='tool_use')\n",
      "Tool name get_ticket_price\n",
      "Tool get_ticket_price called for London\n",
      "Tool response $The flight price is ${\"destination_city\": \"London\", \"price\": \"$799\"}\n",
      "Tools Response\n",
      "Message(id='msg_014XZvGHbHYKdvDh3geBZePo', content=[], model='claude-3-haiku-20240307', role='assistant', stop_reason='end_turn', stop_sequence=None, type='message', usage=Usage(cache_creation_input_tokens=0, cache_read_input_tokens=0, input_tokens=25, output_tokens=3))\n",
      "TextBlock(citations=None, text='यात्रा की कीमत है ${\"destination_city\": \"लंदन\", \"price\": \"$799\"}', type='text')\n"
     ]
    },
    {
     "name": "stderr",
     "output_type": "stream",
     "text": [
      "Input #0, wav, from '/var/folders/f4/v6qdzld96kgdrq05w5ghmrp40000gn/T/tmpnomew5n_.wav':\n",
      "  Duration: 00:00:04.56, bitrate: 384 kb/s\n",
      "  Stream #0:0: Audio: pcm_s16le ([1][0][0][0] / 0x0001), 24000 Hz, 1 channels, s16, 384 kb/s\n",
      "   4.46 M-A:  0.000 fd=   0 aq=    0KB vq=    0KB sq=    0B "
     ]
    },
    {
     "name": "stdout",
     "output_type": "stream",
     "text": [
      "\n"
     ]
    }
   ],
   "source": [
    "# More involved Gradio code as we're not using the preset Chat interface!\n",
    "# Passing in inbrowser=True in the last line will cause a Gradio window to pop up immediately.\n",
    "LANGUAGES = [\n",
    "    \"French\", \"Spanish\", \"German\", \"Italian\", \"Portuguese\",\n",
    "    \"Hindi\", \"Japanese\", \"Korean\", \"Chinese (Simplified)\",\n",
    "    \"Arabic\", \"Russian\", \"Turkish\"\n",
    "]\n",
    "\n",
    "\n",
    "with gr.Blocks() as demo:\n",
    "    gr.Markdown(\"### 🧠 Claude + Tools + TTS\")\n",
    "    with gr.Row():\n",
    "        language_dropdown = gr.Dropdown(label=\"Target Language\", choices=LANGUAGES, value=\"French\")\n",
    "        user_input = gr.Textbox(label=\"Ask Claude something...\")\n",
    "    with gr.Row():\n",
    "        submit_btn = gr.Button(\"Submit\")\n",
    "    with gr.Row():\n",
    "        response_output = gr.Textbox(label=\"Claude's Response\")\n",
    "        #audio_output = gr.Audio(label=\"Audio\", type=\"filepath\")\n",
    "\n",
    "    submit_btn.click(chat_with_claude, inputs=[user_input, language_dropdown], outputs=[response_output])\n",
    "\n",
    "demo.launch()"
   ]
  },
  {
   "cell_type": "code",
   "execution_count": null,
   "id": "465a98e7-3b46-4788-b7e2-768008ed91b2",
   "metadata": {},
   "outputs": [],
   "source": []
  }
 ],
 "metadata": {
  "kernelspec": {
   "display_name": "Python 3 (ipykernel)",
   "language": "python",
   "name": "python3"
  },
  "language_info": {
   "codemirror_mode": {
    "name": "ipython",
    "version": 3
   },
   "file_extension": ".py",
   "mimetype": "text/x-python",
   "name": "python",
   "nbconvert_exporter": "python",
   "pygments_lexer": "ipython3",
   "version": "3.11.11"
  }
 },
 "nbformat": 4,
 "nbformat_minor": 5
}
