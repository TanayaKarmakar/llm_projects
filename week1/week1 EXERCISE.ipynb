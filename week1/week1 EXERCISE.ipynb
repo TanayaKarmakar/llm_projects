{
 "cells": [
  {
   "cell_type": "markdown",
   "id": "fe12c203-e6a6-452c-a655-afb8a03a4ff5",
   "metadata": {},
   "source": [
    "# End of week 1 exercise\n",
    "\n",
    "To demonstrate your familiarity with OpenAI API, and also Ollama, build a tool that takes a technical question,  \n",
    "and responds with an explanation. This is a tool that you will be able to use yourself during the course!"
   ]
  },
  {
   "cell_type": "code",
   "execution_count": 27,
   "id": "c1070317-3ed9-4659-abe3-828943230e03",
   "metadata": {},
   "outputs": [],
   "source": [
    "# imports\n",
    "import ollama\n",
    "from IPython.display import Markdown, update_display\n",
    "import os\n",
    "from openai import OpenAI"
   ]
  },
  {
   "cell_type": "code",
   "execution_count": 22,
   "id": "4a456906-915a-4bfd-bb9d-57e505c5093f",
   "metadata": {},
   "outputs": [],
   "source": [
    "# constants\n",
    "\n",
    "MODEL_GPT = 'gpt-4o-mini'\n",
    "MODEL_LLAMA = 'llama3.2'"
   ]
  },
  {
   "cell_type": "code",
   "execution_count": null,
   "id": "a8d7923c-5f28-4c30-8556-342d7c8497c1",
   "metadata": {},
   "outputs": [],
   "source": [
    "# set up environment"
   ]
  },
  {
   "cell_type": "code",
   "execution_count": 23,
   "id": "3f0d0137-52b0-47a8-81a8-11a90a010798",
   "metadata": {},
   "outputs": [],
   "source": [
    "# here is the question; type over this to ask something new\n",
    "\n",
    "\n",
    "question = \"\"\"\n",
    "Please explain what this code does and why:\n",
    "yield from {book.get(\"author\") for book in books if book.get(\"author\")}\n",
    "\"\"\"\n",
    "\n",
    "\n",
    "messages = [\n",
    "    {\n",
    "        \"role\": \"user\",\n",
    "        \"content\": question\n",
    "    }\n",
    "]"
   ]
  },
  {
   "cell_type": "code",
   "execution_count": 28,
   "id": "60ce7000-a4a5-4cce-a261-e75ef45063b4",
   "metadata": {},
   "outputs": [
    {
     "data": {
      "text/markdown": [
       "The code you provided is a generator expression that uses the `yield from` statement, combined with a set comprehension to extract unique author names from a collection of books. Here’s a breakdown of what it does:\n",
       "\n",
       "1. **Set Comprehension**:\n",
       "    python\n",
       "    {book.get(\"author\") for book in books if book.get(\"author\")}\n",
       "    \n",
       "    - This part creates a set of authors who are present in the `books` iterable.\n",
       "    - It iterates over each `book` in the `books` collection (which is assumed to be a list of dictionaries where each dictionary contains information about a book).\n",
       "    - For each `book`, it attempts to get the `author` value using `book.get(\"author\")`.\n",
       "    - The `if book.get(\"author\")` condition filters out any books where the `author` is not present (i.e., it would be `None` or an empty string).\n",
       "    - Since it is a set comprehension, it will automatically eliminate any duplicate author names, resulting in a unique set of authors.\n",
       "\n",
       "2. **Using `yield from`**:\n",
       "    python\n",
       "    yield from ...\n",
       "    \n",
       "    - The `yield from` expression is used in a generator function to yield all values from the iterable that follows it. In this case, it yields each unique author from the set created by the set comprehension.\n",
       "    - The effect of using `yield from` is that it makes the function a generator that can be iterated over, producing author names one at a time.\n",
       "\n",
       "### Purpose and Use Case\n",
       "- The code is typically used within a generator function to provide a way to retrieve unique author names from a collection of books with potentially duplicate authors without the overhead of creating a complete list beforehand.\n",
       "- It is efficient because it utilizes Python's set data structure to automatically handle duplicates and produces authors one at a time, suitable for iterating through large datasets without consuming too much memory.\n",
       "\n",
       "### Example\n",
       "If you have the following list of books:\n",
       "python\n",
       "books = [\n",
       "    {\"title\": \"Book One\", \"author\": \"Author A\"},\n",
       "    {\"title\": \"Book Two\", \"author\": \"Author B\"},\n",
       "    {\"title\": \"Book Three\", \"author\": \"Author A\"},\n",
       "    {\"title\": \"Book Four\", \"author\": None},\n",
       "    {\"title\": \"Book Five\", \"author\": \"Author C\"},\n",
       "]\n",
       "\n",
       "\n",
       "When you run the code above, it would yield:\n",
       "- \"Author A\"\n",
       "- \"Author B\"\n",
       "- \"Author C\"\n",
       "\n",
       "Only unique authors are yielded, and any books without an author are ignored."
      ],
      "text/plain": [
       "<IPython.core.display.Markdown object>"
      ]
     },
     "metadata": {},
     "output_type": "display_data"
    }
   ],
   "source": [
    "# Get gpt-4o-mini to answer, with streaming\n",
    "payload = {\n",
    "    \"model\": MODEL_GPT,\n",
    "    \"messages\": messages,\n",
    "    \"stream\": True      \n",
    "}\n",
    "\n",
    "os.environ['OPENAI_API_KEY'] = 'sk-proj-****'\n",
    "api_key = os.getenv('OPENAI_API_KEY')\n",
    "\n",
    "\n",
    "openai = OpenAI()\n",
    "stream_response = openai.chat.completions.create(\n",
    "    model = MODEL_GPT,\n",
    "    messages = messages,\n",
    "    stream = True\n",
    ")\n",
    "\n",
    "response = \"\"\n",
    "display_handle = display(Markdown(\"\"), display_id=True)\n",
    "\n",
    "for chunk in stream_response:\n",
    "    response += chunk.choices[0].delta.content or ''\n",
    "    response = response.replace(\"```\",\"\").replace(\"markdown\", \"\")\n",
    "    update_display(Markdown(response), display_id=display_handle.display_id)\n"
   ]
  },
  {
   "cell_type": "code",
   "execution_count": 29,
   "id": "8f7c8ea8-4082-4ad0-8751-3301adcf6538",
   "metadata": {},
   "outputs": [
    {
     "data": {
      "text/markdown": [
       "This line of code uses a combination of Python's features to extract the authors from a list of dictionaries (`books`) and yield each author one by one.\n",
       "\n",
       "Here's a breakdown:\n",
       "\n",
       "- `for book in books`: This is a loop that iterates over each dictionary in the `books` list.\n",
       "\n",
       "- `.get(\"author\")`: For each dictionary, this line attempts to retrieve the value associated with the key `\"author\"`. If the key doesn't exist in the dictionary, it returns `None`.\n",
       "\n",
       "- `{...}`: This is an expression that evaluates to a new iterator. It's equivalent to saying \"for each author found, yield it\".\n",
       "\n",
       "- `yield from`: This keyword allows you to delegate iteration over another iterable (in this case, the dictionary) without creating a full list of all the elements. When `yield from` is encountered in a generator function, the control goes back to that other iterator and continues iterating until it reaches its end.\n",
       "\n",
       "So, when put together, `yield from {book.get(\"author\") for book in books if book.get(\"author\")}` will:\n",
       "\n",
       "1. Iterate over each dictionary (`book`) in the `books` list.\n",
       "2. For each dictionary, try to retrieve the `\"author\"` key and yield the result if it exists.\n",
       "\n",
       "In essence, this line is using a dictionary comprehension (the part inside `{...}`) combined with `yield from`, to create a generator that yields all the authors from the dictionaries in the `books` list without creating a large intermediate data structure.\n",
       "\n",
       "Here's an example of how you could use this:\n",
       "\n",
       "```python\n",
       "def get_authors(books):\n",
       "    yield from {book.get(\"author\") for book in books if book.get(\"author\")}\n",
       "    \n",
       "books = [\n",
       "    {\"title\": \"Book 1\", \"author\": \"Author A\"},\n",
       "    {\"title\": \"Book 2\", \"author\": None},\n",
       "    {\"title\": \"Book 3\", \"author\": \"Author C\"}\n",
       "]\n",
       "\n",
       "for author in get_authors(books):\n",
       "    print(author)\n",
       "```\n",
       "\n",
       "This would output:\n",
       "```\n",
       "Author A\n",
       "None\n",
       "Author C\n",
       "```"
      ],
      "text/plain": [
       "<IPython.core.display.Markdown object>"
      ]
     },
     "execution_count": 29,
     "metadata": {},
     "output_type": "execute_result"
    }
   ],
   "source": [
    "# Get Llama 3.2 to answer\n",
    "\n",
    "\n",
    "response = ollama.chat(model=MODEL_LLAMA, messages = messages)\n",
    "Markdown(response['message']['content'])\n"
   ]
  },
  {
   "cell_type": "code",
   "execution_count": null,
   "id": "264ad2bb-c79b-442e-8acc-df60ea9ed5ad",
   "metadata": {},
   "outputs": [],
   "source": []
  }
 ],
 "metadata": {
  "kernelspec": {
   "display_name": "Python 3 (ipykernel)",
   "language": "python",
   "name": "python3"
  },
  "language_info": {
   "codemirror_mode": {
    "name": "ipython",
    "version": 3
   },
   "file_extension": ".py",
   "mimetype": "text/x-python",
   "name": "python",
   "nbconvert_exporter": "python",
   "pygments_lexer": "ipython3",
   "version": "3.11.11"
  }
 },
 "nbformat": 4,
 "nbformat_minor": 5
}
