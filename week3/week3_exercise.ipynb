{
 "cells": [
  {
   "cell_type": "markdown",
   "id": "237da7a9-ac3a-4a35-8bcd-a509f039f0c8",
   "metadata": {},
   "source": [
    "## Week3 exercise"
   ]
  },
  {
   "cell_type": "markdown",
   "id": "59650e6e-b74d-4986-9ed7-a4a8dde0f181",
   "metadata": {},
   "source": [
    "https://colab.research.google.com/drive/1Q9ssWPWXIAcKzCgD5NMbS9nVLEFe2glW#scrollTo=kO8faLiEW1gn"
   ]
  },
  {
   "cell_type": "code",
   "execution_count": null,
   "id": "94db957c-f3bc-485a-ba76-be408129e198",
   "metadata": {},
   "outputs": [],
   "source": []
  }
 ],
 "metadata": {
  "kernelspec": {
   "display_name": "Python 3 (ipykernel)",
   "language": "python",
   "name": "python3"
  },
  "language_info": {
   "codemirror_mode": {
    "name": "ipython",
    "version": 3
   },
   "file_extension": ".py",
   "mimetype": "text/x-python",
   "name": "python",
   "nbconvert_exporter": "python",
   "pygments_lexer": "ipython3",
   "version": "3.11.11"
  }
 },
 "nbformat": 4,
 "nbformat_minor": 5
}
